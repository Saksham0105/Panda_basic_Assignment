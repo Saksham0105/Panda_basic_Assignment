{
 "cells": [
  {
   "cell_type": "markdown",
   "id": "29e92463-038e-46e0-888f-2da134e17021",
   "metadata": {},
   "source": [
    "## Q1. Create a Pandas Series that contains the following data: 4, 8, 15, 16, 23, and 42. Then, print the series."
   ]
  },
  {
   "cell_type": "markdown",
   "id": "2327dac2-7c36-4f62-9b47-bcc4a2abb313",
   "metadata": {},
   "source": [
    "Ans: "
   ]
  },
  {
   "cell_type": "code",
   "execution_count": 1,
   "id": "e30fced1-9fd3-4307-aa19-5fd398f9670b",
   "metadata": {},
   "outputs": [],
   "source": [
    "import pandas as pd"
   ]
  },
  {
   "cell_type": "code",
   "execution_count": 2,
   "id": "af421f62-31b0-42e7-bd77-d02af86cc2f2",
   "metadata": {},
   "outputs": [],
   "source": [
    "data = [4, 8, 15, 16, 23, 42]"
   ]
  },
  {
   "cell_type": "code",
   "execution_count": 3,
   "id": "5ad16ff4-23ce-46dc-b417-2fe4c388988e",
   "metadata": {},
   "outputs": [],
   "source": [
    "series = pd.Series(data)"
   ]
  },
  {
   "cell_type": "code",
   "execution_count": 4,
   "id": "1c253990-8ab6-4e60-bf0b-956cb3e30816",
   "metadata": {},
   "outputs": [
    {
     "name": "stdout",
     "output_type": "stream",
     "text": [
      "0     4\n",
      "1     8\n",
      "2    15\n",
      "3    16\n",
      "4    23\n",
      "5    42\n",
      "dtype: int64\n"
     ]
    }
   ],
   "source": [
    "print(series)"
   ]
  },
  {
   "cell_type": "markdown",
   "id": "4673fbf0-df21-4639-bad9-e102fe8ec209",
   "metadata": {},
   "source": [
    "## Q2. Create a variable of list type containing 10 elements in it, and apply pandas.Series function on the variable print it."
   ]
  },
  {
   "cell_type": "markdown",
   "id": "2fa4e4f0-b5af-4679-9658-3d89ab8569e8",
   "metadata": {},
   "source": [
    "Ans : "
   ]
  },
  {
   "cell_type": "code",
   "execution_count": 5,
   "id": "9847ca53-58c2-4390-b0db-4c2f4c51e8e3",
   "metadata": {},
   "outputs": [],
   "source": [
    "import pandas as pd"
   ]
  },
  {
   "cell_type": "code",
   "execution_count": 6,
   "id": "51d96ccb-50cf-4140-aaa8-4e2c36a269d0",
   "metadata": {},
   "outputs": [],
   "source": [
    "my_list = [1, 2, 3, 4, 5, 6, 7, 8, 9, 10]"
   ]
  },
  {
   "cell_type": "code",
   "execution_count": 7,
   "id": "94dde4a1-bd89-413b-a44b-de1e902cff45",
   "metadata": {},
   "outputs": [],
   "source": [
    "series_from_list = pd.Series(my_list)"
   ]
  },
  {
   "cell_type": "code",
   "execution_count": 8,
   "id": "51fb93bd-fb82-4352-a640-66d960be7054",
   "metadata": {},
   "outputs": [
    {
     "name": "stdout",
     "output_type": "stream",
     "text": [
      "0     1\n",
      "1     2\n",
      "2     3\n",
      "3     4\n",
      "4     5\n",
      "5     6\n",
      "6     7\n",
      "7     8\n",
      "8     9\n",
      "9    10\n",
      "dtype: int64\n"
     ]
    }
   ],
   "source": [
    "print(series_from_list)"
   ]
  },
  {
   "cell_type": "markdown",
   "id": "e1f4cfa7-1d2e-479a-84db-8e5b5e2225fe",
   "metadata": {},
   "source": [
    "## Q3. Create a Pandas DataFrame that contains the following data:"
   ]
  },
  {
   "cell_type": "markdown",
   "id": "0d4924e5-805a-4e68-b122-1d565c0b2372",
   "metadata": {},
   "source": [
    "Name\n",
    "Alice,\n",
    "Bob,\n",
    "Claire\n",
    "\n",
    "Age\n",
    "25,\n",
    "30,\n",
    "27\n",
    "\n",
    "Gender\n",
    "Female,\n",
    "Male,\n",
    "Female\n",
    "\n",
    "\n",
    "Then, print the DataFrame."
   ]
  },
  {
   "cell_type": "markdown",
   "id": "20af941e-1456-427a-ab5b-6709d2f076a8",
   "metadata": {},
   "source": [
    "Ans : "
   ]
  },
  {
   "cell_type": "code",
   "execution_count": 13,
   "id": "7bf2a1c4-c9ba-4304-81cc-ff5950143af8",
   "metadata": {},
   "outputs": [],
   "source": [
    "import pandas as pd"
   ]
  },
  {
   "cell_type": "code",
   "execution_count": 14,
   "id": "b6144004-a972-48ec-b3ab-a74f726b226d",
   "metadata": {},
   "outputs": [],
   "source": [
    "data = {\n",
    "    'Name': ['Alice', 'Bob', 'Charlie'],\n",
    "    'Age': [25, 30, 27],\n",
    "    'Gender': ['Female', 'Male', 'Female']\n",
    "}"
   ]
  },
  {
   "cell_type": "code",
   "execution_count": 15,
   "id": "ae6ff77b-a054-4893-ab4d-5d9f39c9ce45",
   "metadata": {},
   "outputs": [],
   "source": [
    "df = pd.DataFrame(data)"
   ]
  },
  {
   "cell_type": "code",
   "execution_count": 16,
   "id": "0f04ea16-0c2d-445c-ac3d-93ff1d680ce0",
   "metadata": {},
   "outputs": [
    {
     "name": "stdout",
     "output_type": "stream",
     "text": [
      "      Name  Age  Gender\n",
      "0    Alice   25  Female\n",
      "1      Bob   30    Male\n",
      "2  Charlie   27  Female\n"
     ]
    }
   ],
   "source": [
    "print(df)"
   ]
  },
  {
   "cell_type": "markdown",
   "id": "0fa93c79-9cb7-416c-b5de-5a60bdec4473",
   "metadata": {},
   "source": [
    "## Q4. What is ‘DataFrame’ in pandas and how is it different from pandas.series? Explain with an example."
   ]
  },
  {
   "cell_type": "markdown",
   "id": "e495ec84-baf9-461e-8cd6-a0343a7a2bd9",
   "metadata": {},
   "source": [
    "Ans -"
   ]
  },
  {
   "cell_type": "markdown",
   "id": "9af3cb30-95f7-46f1-81a6-144c0129f9b0",
   "metadata": {},
   "source": [
    "* **DATAFRAME :-**"
   ]
  },
  {
   "cell_type": "markdown",
   "id": "c272c478-e3df-45f7-a368-3f0ab61e04bb",
   "metadata": {},
   "source": [
    "A DataFrame in pandas is a 2-dimensional labeled data structure with columns of potentially different types. It can be thought of as a spreadsheet or SQL table, where each column is a pandas Series. A DataFrame can store and manipulate data in a tabular form with rows and columns. It provides various functionalities for data analysis and manipulation."
   ]
  },
  {
   "cell_type": "markdown",
   "id": "fb2f3758-3e11-4fba-8742-8ae3c160ebc6",
   "metadata": {},
   "source": [
    "* EXAMPLE :-"
   ]
  },
  {
   "cell_type": "code",
   "execution_count": 19,
   "id": "a2f0a8f2-22d1-48f3-909d-d9e1d99e4c63",
   "metadata": {},
   "outputs": [],
   "source": [
    "data = {'A': pd.Series([1, 2, 3]), 'B': pd.Series([4, 5, 6])}"
   ]
  },
  {
   "cell_type": "code",
   "execution_count": 20,
   "id": "4eb47e1c-4708-4038-9e66-faeca63b0f3f",
   "metadata": {},
   "outputs": [],
   "source": [
    "df = pd.DataFrame(data)"
   ]
  },
  {
   "cell_type": "code",
   "execution_count": 22,
   "id": "f2c16aec-0c70-4ef7-b467-21476b3250ec",
   "metadata": {},
   "outputs": [
    {
     "name": "stdout",
     "output_type": "stream",
     "text": [
      "   A  B\n",
      "0  1  4\n",
      "1  2  5\n",
      "2  3  6\n"
     ]
    }
   ],
   "source": [
    "print(df)"
   ]
  },
  {
   "cell_type": "markdown",
   "id": "375f484a-423d-4d7e-bf72-ce6c1bf168f5",
   "metadata": {},
   "source": [
    "## Q5. What are some common functions you can use to manipulate data in a Pandas DataFrame? Can you give an example of when you might use one of these functions?"
   ]
  },
  {
   "cell_type": "markdown",
   "id": "ea6060ce-d447-47b4-b47c-f2f9df45b269",
   "metadata": {},
   "source": [
    "Ans-"
   ]
  },
  {
   "cell_type": "markdown",
   "id": "5843b6c6-5dd7-40e7-96f5-a4e622190f08",
   "metadata": {},
   "source": [
    "**Some common functions to manipulate data in a Pandas DataFrame include :-**\n",
    "\n",
    "**'head'(), 'tail'(), 'info'(), 'describe'(), 'groupby'(), 'pivot_table'(), 'dropna'(), 'fillna'(), 'merge'(), 'join'(), 'sort_values'(), 'apply'(), etc.**"
   ]
  },
  {
   "cell_type": "markdown",
   "id": "11c843b9-95cc-49c7-99ad-5d18a6b2b765",
   "metadata": {},
   "source": [
    "* Example:-"
   ]
  },
  {
   "cell_type": "markdown",
   "id": "bc91d1da-362a-4288-adb2-9d42ff69687e",
   "metadata": {},
   "source": [
    "* **'head'( ) :-**"
   ]
  },
  {
   "cell_type": "code",
   "execution_count": 30,
   "id": "1f8789b2-aa3a-48e9-bf7a-c7055c299e2a",
   "metadata": {},
   "outputs": [],
   "source": [
    "import pandas as pd"
   ]
  },
  {
   "cell_type": "code",
   "execution_count": 31,
   "id": "09781abd-a488-462c-9a5c-c7d6f9ca3165",
   "metadata": {},
   "outputs": [],
   "source": [
    "data = {'A': [1, 2, 3, 4, 5], 'B': ['a', 'b', 'c', 'd', 'e']}"
   ]
  },
  {
   "cell_type": "code",
   "execution_count": 32,
   "id": "9eb4b850-9b7f-4d01-b396-dadd722a04e6",
   "metadata": {},
   "outputs": [],
   "source": [
    "df = pd.DataFrame(data)"
   ]
  },
  {
   "cell_type": "code",
   "execution_count": 34,
   "id": "132e0e95-7a37-4d6d-b0c5-12272377224a",
   "metadata": {},
   "outputs": [
    {
     "name": "stdout",
     "output_type": "stream",
     "text": [
      "   A  B\n",
      "0  1  a\n",
      "1  2  b\n"
     ]
    }
   ],
   "source": [
    "print(df.head(2))"
   ]
  },
  {
   "cell_type": "markdown",
   "id": "0b83c793-268e-43c0-9358-548068a08f41",
   "metadata": {},
   "source": [
    "* **'tail'( ) :-**"
   ]
  },
  {
   "cell_type": "code",
   "execution_count": 36,
   "id": "9a1fec2e-eeaf-4c75-a703-23768414dce2",
   "metadata": {},
   "outputs": [
    {
     "name": "stdout",
     "output_type": "stream",
     "text": [
      "   A  B\n",
      "3  4  d\n",
      "4  5  e\n"
     ]
    }
   ],
   "source": [
    "print(df.tail(2))"
   ]
  },
  {
   "cell_type": "markdown",
   "id": "c6739344-6f19-4c8c-8cde-715352a609f2",
   "metadata": {},
   "source": [
    "## Q6. Which of the following is mutable in nature Series, DataFrame, Panel?"
   ]
  },
  {
   "cell_type": "markdown",
   "id": "b3859d3b-fccd-4e96-8b90-b0a3d4d6b304",
   "metadata": {},
   "source": [
    "Ans :-"
   ]
  },
  {
   "cell_type": "markdown",
   "id": "d907a972-eb3e-494f-98d0-a1e78107a3f5",
   "metadata": {},
   "source": [
    "Among Series, DataFrame, and Panel, both Series and DataFrame are mutable in nature.\n",
    "\n",
    "A mutable object is one that can be modified after it is created. In the context of pandas:\n",
    "\n",
    "- Series: Individual elements in a Series can be modified, added, or removed.\n",
    "- DataFrame: Columns and rows in a DataFrame can be modified, added, or removed.\n",
    "\n",
    "**Panel is immutable in nature. Panel was a data structure in pandas that was removed in version 0.25.0 due to limited use cases and lack of consistency with other data structures in pandas.**"
   ]
  },
  {
   "cell_type": "markdown",
   "id": "c78ce022-3c1d-452e-b58f-a0f056bb1f19",
   "metadata": {},
   "source": [
    "# Q7. Create a DataFrame using multiple Series. Explain with an example."
   ]
  },
  {
   "cell_type": "markdown",
   "id": "401ff2e6-f318-4658-8da5-8b074c99c6a5",
   "metadata": {},
   "source": [
    "Ans :- "
   ]
  },
  {
   "cell_type": "code",
   "execution_count": 41,
   "id": "75dd7afc-e6ac-4aa3-bae6-8a1becbaaffa",
   "metadata": {
    "tags": []
   },
   "outputs": [],
   "source": [
    "import pandas as pd"
   ]
  },
  {
   "cell_type": "code",
   "execution_count": 47,
   "id": "5555c8a7-aca4-4733-a63c-0df0ddd2b130",
   "metadata": {},
   "outputs": [],
   "source": [
    "s1 = pd.Series([35,52, 88])\n",
    "s2 = pd.Series(['A', 'B', 'C'])"
   ]
  },
  {
   "cell_type": "code",
   "execution_count": 45,
   "id": "3f68a49e-921b-42c4-bc6e-cb9c53f462db",
   "metadata": {},
   "outputs": [],
   "source": [
    "df = pd.DataFrame({'Column1': s1, 'Column2': s2})"
   ]
  },
  {
   "cell_type": "code",
   "execution_count": 46,
   "id": "dced44ed-7adf-40e8-9231-c4c432d2d432",
   "metadata": {},
   "outputs": [
    {
     "name": "stdout",
     "output_type": "stream",
     "text": [
      "   Column1 Column2\n",
      "0       35       a\n",
      "1       52       b\n",
      "2       88       c\n"
     ]
    }
   ],
   "source": [
    "print(df)"
   ]
  }
 ],
 "metadata": {
  "kernelspec": {
   "display_name": "Python 3 (ipykernel)",
   "language": "python",
   "name": "python3"
  },
  "language_info": {
   "codemirror_mode": {
    "name": "ipython",
    "version": 3
   },
   "file_extension": ".py",
   "mimetype": "text/x-python",
   "name": "python",
   "nbconvert_exporter": "python",
   "pygments_lexer": "ipython3",
   "version": "3.10.8"
  }
 },
 "nbformat": 4,
 "nbformat_minor": 5
}
